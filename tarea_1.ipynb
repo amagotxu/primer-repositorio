{
  "nbformat": 4,
  "nbformat_minor": 0,
  "metadata": {
    "colab": {
      "provenance": [],
      "collapsed_sections": [],
      "authorship_tag": "ABX9TyNrE1PzDbxklricEH65I3f9",
      "include_colab_link": true
    },
    "kernelspec": {
      "name": "python3",
      "display_name": "Python 3"
    },
    "language_info": {
      "name": "python"
    }
  },
  "cells": [
    {
      "cell_type": "markdown",
      "metadata": {
        "id": "view-in-github",
        "colab_type": "text"
      },
      "source": [
        "<a href=\"https://colab.research.google.com/github/amagotxu/primer-repositorio/blob/main/tarea_1.ipynb\" target=\"_parent\"><img src=\"https://colab.research.google.com/assets/colab-badge.svg\" alt=\"Open In Colab\"/></a>"
      ]
    },
    {
      "cell_type": "code",
      "execution_count": null,
      "metadata": {
        "colab": {
          "base_uri": "https://localhost:8080/"
        },
        "id": "c2X-WfrsXefK",
        "outputId": "5d373835-adda-4588-9dfb-970c1cc17732"
      },
      "outputs": [
        {
          "output_type": "stream",
          "name": "stdout",
          "text": [
            "Hola\n"
          ]
        }
      ],
      "source": [
        "print (\"Hola\")\n"
      ]
    },
    {
      "cell_type": "code",
      "source": [
        "name = \"Hola\"\n",
        "print (name)"
      ],
      "metadata": {
        "colab": {
          "base_uri": "https://localhost:8080/"
        },
        "id": "A41Y8ID_fmjF",
        "outputId": "f91b24a6-ddcd-4265-ce41-fe76edbff6b4"
      },
      "execution_count": null,
      "outputs": [
        {
          "output_type": "stream",
          "name": "stdout",
          "text": [
            "Hola\n"
          ]
        }
      ]
    },
    {
      "cell_type": "markdown",
      "source": [],
      "metadata": {
        "id": "rylPQ79hhl9t"
      }
    },
    {
      "cell_type": "code",
      "source": [
        "name = \"solución =\"\n",
        "sum = (1+2)**2\n",
        "print (name, sum)"
      ],
      "metadata": {
        "colab": {
          "base_uri": "https://localhost:8080/"
        },
        "id": "oci8HVbLhmrO",
        "outputId": "f6e57b26-2aeb-46b0-b7b2-6b30fa07133e"
      },
      "execution_count": null,
      "outputs": [
        {
          "output_type": "stream",
          "name": "stdout",
          "text": [
            "solución = 9\n"
          ]
        }
      ]
    },
    {
      "cell_type": "code",
      "source": [
        "name = \"x\"\n",
        "name = \"y\"\n",
        "x = int(input ('Dime un número'))\n",
        "y = int(input ('Dime otro número'))\n",
        "sum = (x+y)**3\n",
        "print (\"El resultado es\", sum)\n"
      ],
      "metadata": {
        "colab": {
          "base_uri": "https://localhost:8080/"
        },
        "id": "u8vDQmfelMcd",
        "outputId": "c481867b-bf36-475e-87db-0e78bffddcd4"
      },
      "execution_count": null,
      "outputs": [
        {
          "output_type": "stream",
          "name": "stdout",
          "text": [
            "Dime un número2\n",
            "Dime otro número3\n",
            "El resultado es 125\n"
          ]
        }
      ]
    },
    {
      "cell_type": "code",
      "source": [
        "name = \"x\"\n",
        "name = \"y\"\n",
        "x = input ('Dime el nombre de tu pelicula favorita')\n",
        "y = input ('Dime un número')\n",
        "print (x,y)"
      ],
      "metadata": {
        "colab": {
          "base_uri": "https://localhost:8080/"
        },
        "id": "jqdVW-8dqiX6",
        "outputId": "3ae42006-4713-44e2-d936-5200696f3166"
      },
      "execution_count": null,
      "outputs": [
        {
          "output_type": "stream",
          "name": "stdout",
          "text": [
            "Dime el nombre de tu pelicula favoritaHarry Potter\n",
            "Dime un número5\n",
            "Harry Potter 5\n"
          ]
        }
      ]
    }
  ]
}